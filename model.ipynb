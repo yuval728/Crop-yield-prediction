{
 "cells": [
  {
   "cell_type": "code",
   "execution_count": 1,
   "metadata": {},
   "outputs": [],
   "source": [
    "import pandas as pd\n",
    "import numpy as np\n",
    "import mlflow\n",
    "import warnings\n",
    "warnings.filterwarnings(\"ignore\")"
   ]
  },
  {
   "cell_type": "code",
   "execution_count": 2,
   "metadata": {},
   "outputs": [],
   "source": [
    "from sklearn.model_selection import train_test_split\n",
    "\n",
    "from sklearn.preprocessing import StandardScaler, MinMaxScaler, OneHotEncoder\n",
    "from sklearn.compose import ColumnTransformer\n",
    "from sklearn.pipeline import Pipeline\n",
    "from sklearn.decomposition import PCA\n",
    "\n",
    "from sklearn.metrics import mean_squared_error, mean_absolute_error, r2_score"
   ]
  },
  {
   "cell_type": "code",
   "execution_count": 3,
   "metadata": {},
   "outputs": [
    {
     "data": {
      "text/html": [
       "<div>\n",
       "<style scoped>\n",
       "    .dataframe tbody tr th:only-of-type {\n",
       "        vertical-align: middle;\n",
       "    }\n",
       "\n",
       "    .dataframe tbody tr th {\n",
       "        vertical-align: top;\n",
       "    }\n",
       "\n",
       "    .dataframe thead th {\n",
       "        text-align: right;\n",
       "    }\n",
       "</style>\n",
       "<table border=\"1\" class=\"dataframe\">\n",
       "  <thead>\n",
       "    <tr style=\"text-align: right;\">\n",
       "      <th></th>\n",
       "      <th>Region</th>\n",
       "      <th>Soil_Type</th>\n",
       "      <th>Crop</th>\n",
       "      <th>Rainfall_mm</th>\n",
       "      <th>Temperature_Celsius</th>\n",
       "      <th>Fertilizer_Used</th>\n",
       "      <th>Irrigation_Used</th>\n",
       "      <th>Weather_Condition</th>\n",
       "      <th>Days_to_Harvest</th>\n",
       "      <th>Yield_tons_per_hectare</th>\n",
       "    </tr>\n",
       "  </thead>\n",
       "  <tbody>\n",
       "    <tr>\n",
       "      <th>0</th>\n",
       "      <td>West</td>\n",
       "      <td>Sandy</td>\n",
       "      <td>Cotton</td>\n",
       "      <td>897.077239</td>\n",
       "      <td>27.676966</td>\n",
       "      <td>False</td>\n",
       "      <td>True</td>\n",
       "      <td>Cloudy</td>\n",
       "      <td>122</td>\n",
       "      <td>6.555816</td>\n",
       "    </tr>\n",
       "    <tr>\n",
       "      <th>1</th>\n",
       "      <td>South</td>\n",
       "      <td>Clay</td>\n",
       "      <td>Rice</td>\n",
       "      <td>992.673282</td>\n",
       "      <td>18.026142</td>\n",
       "      <td>True</td>\n",
       "      <td>True</td>\n",
       "      <td>Rainy</td>\n",
       "      <td>140</td>\n",
       "      <td>8.527341</td>\n",
       "    </tr>\n",
       "    <tr>\n",
       "      <th>2</th>\n",
       "      <td>North</td>\n",
       "      <td>Loam</td>\n",
       "      <td>Barley</td>\n",
       "      <td>147.998025</td>\n",
       "      <td>29.794042</td>\n",
       "      <td>False</td>\n",
       "      <td>False</td>\n",
       "      <td>Sunny</td>\n",
       "      <td>106</td>\n",
       "      <td>1.127443</td>\n",
       "    </tr>\n",
       "    <tr>\n",
       "      <th>3</th>\n",
       "      <td>North</td>\n",
       "      <td>Sandy</td>\n",
       "      <td>Soybean</td>\n",
       "      <td>986.866331</td>\n",
       "      <td>16.644190</td>\n",
       "      <td>False</td>\n",
       "      <td>True</td>\n",
       "      <td>Rainy</td>\n",
       "      <td>146</td>\n",
       "      <td>6.517573</td>\n",
       "    </tr>\n",
       "    <tr>\n",
       "      <th>4</th>\n",
       "      <td>South</td>\n",
       "      <td>Silt</td>\n",
       "      <td>Wheat</td>\n",
       "      <td>730.379174</td>\n",
       "      <td>31.620687</td>\n",
       "      <td>True</td>\n",
       "      <td>True</td>\n",
       "      <td>Cloudy</td>\n",
       "      <td>110</td>\n",
       "      <td>7.248251</td>\n",
       "    </tr>\n",
       "  </tbody>\n",
       "</table>\n",
       "</div>"
      ],
      "text/plain": [
       "  Region Soil_Type     Crop  Rainfall_mm  Temperature_Celsius  \\\n",
       "0   West     Sandy   Cotton   897.077239            27.676966   \n",
       "1  South      Clay     Rice   992.673282            18.026142   \n",
       "2  North      Loam   Barley   147.998025            29.794042   \n",
       "3  North     Sandy  Soybean   986.866331            16.644190   \n",
       "4  South      Silt    Wheat   730.379174            31.620687   \n",
       "\n",
       "   Fertilizer_Used  Irrigation_Used Weather_Condition  Days_to_Harvest  \\\n",
       "0            False             True            Cloudy              122   \n",
       "1             True             True             Rainy              140   \n",
       "2            False            False             Sunny              106   \n",
       "3            False             True             Rainy              146   \n",
       "4             True             True            Cloudy              110   \n",
       "\n",
       "   Yield_tons_per_hectare  \n",
       "0                6.555816  \n",
       "1                8.527341  \n",
       "2                1.127443  \n",
       "3                6.517573  \n",
       "4                7.248251  "
      ]
     },
     "execution_count": 3,
     "metadata": {},
     "output_type": "execute_result"
    }
   ],
   "source": [
    "df = pd.read_csv('Data/crop_yield.csv')\n",
    "df.head()"
   ]
  },
  {
   "cell_type": "code",
   "execution_count": 4,
   "metadata": {},
   "outputs": [
    {
     "name": "stdout",
     "output_type": "stream",
     "text": [
      "<class 'pandas.core.frame.DataFrame'>\n",
      "RangeIndex: 1000000 entries, 0 to 999999\n",
      "Data columns (total 10 columns):\n",
      " #   Column                  Non-Null Count    Dtype  \n",
      "---  ------                  --------------    -----  \n",
      " 0   Region                  1000000 non-null  object \n",
      " 1   Soil_Type               1000000 non-null  object \n",
      " 2   Crop                    1000000 non-null  object \n",
      " 3   Rainfall_mm             1000000 non-null  float64\n",
      " 4   Temperature_Celsius     1000000 non-null  float64\n",
      " 5   Fertilizer_Used         1000000 non-null  bool   \n",
      " 6   Irrigation_Used         1000000 non-null  bool   \n",
      " 7   Weather_Condition       1000000 non-null  object \n",
      " 8   Days_to_Harvest         1000000 non-null  int64  \n",
      " 9   Yield_tons_per_hectare  1000000 non-null  float64\n",
      "dtypes: bool(2), float64(3), int64(1), object(4)\n",
      "memory usage: 62.9+ MB\n"
     ]
    }
   ],
   "source": [
    "df.info()"
   ]
  },
  {
   "cell_type": "code",
   "execution_count": null,
   "metadata": {},
   "outputs": [],
   "source": []
  },
  {
   "cell_type": "code",
   "execution_count": 5,
   "metadata": {},
   "outputs": [],
   "source": [
    "X = df.drop('Yield_tons_per_hectare', axis=1)\n",
    "y = df['Yield_tons_per_hectare']"
   ]
  },
  {
   "cell_type": "code",
   "execution_count": 6,
   "metadata": {},
   "outputs": [],
   "source": [
    "X_train, X_test, y_train, y_test = train_test_split(X, y, test_size=0.2, random_state=42, shuffle=True)"
   ]
  },
  {
   "cell_type": "code",
   "execution_count": 15,
   "metadata": {},
   "outputs": [
    {
     "name": "stdout",
     "output_type": "stream",
     "text": [
      "Numeric features: Index(['Rainfall_mm', 'Temperature_Celsius', 'Fertilizer_Used',\n",
      "       'Irrigation_Used', 'Days_to_Harvest'],\n",
      "      dtype='object')\n",
      "Categorical features: Index(['Region', 'Soil_Type', 'Crop', 'Weather_Condition'], dtype='object')\n"
     ]
    }
   ],
   "source": [
    "bool_features = X.select_dtypes(include=['bool']).columns\n",
    "X[bool_features] = X[bool_features].astype('int')\n",
    "\n",
    "numeric_features = X.select_dtypes(include=[np.number]).columns\n",
    "categorical_features = X.select_dtypes(include=['object']).columns\n",
    "print('Numeric features:', numeric_features)\n",
    "print('Categorical features:', categorical_features)\n"
   ]
  },
  {
   "cell_type": "code",
   "execution_count": 18,
   "metadata": {},
   "outputs": [
    {
     "name": "stderr",
     "output_type": "stream",
     "text": [
      "2024/10/12 21:07:43 INFO mlflow.tracking.fluent: Experiment with name 'Crop Yield Prediction' does not exist. Creating a new experiment.\n"
     ]
    },
    {
     "data": {
      "text/plain": [
       "<Experiment: artifact_location='file:///d:/Vegeta/Projects/ML%20projects/Crop%20yield%20pred/mlruns/449104772617806357', creation_time=1728747463745, experiment_id='449104772617806357', last_update_time=1728747463745, lifecycle_stage='active', name='Crop Yield Prediction', tags={}>"
      ]
     },
     "execution_count": 18,
     "metadata": {},
     "output_type": "execute_result"
    }
   ],
   "source": [
    "mlflow.set_experiment('Crop Yield Prediction')\n",
    "# mlflow.sklearn.autolog()"
   ]
  },
  {
   "cell_type": "code",
   "execution_count": 19,
   "metadata": {},
   "outputs": [],
   "source": [
    "def get_preprocessor( numeric_features, categorical_features, scaler, encoder):\n",
    "    \n",
    "    numeric_transformer = Pipeline(steps=[\n",
    "        ('scaler', scaler)\n",
    "    ])\n",
    "\n",
    "    categorical_transformer = Pipeline(steps=[\n",
    "        ('encoder', encoder)\n",
    "    ])\n",
    "    \n",
    "    \n",
    "\n",
    "    preprocessor = ColumnTransformer(\n",
    "        transformers=[\n",
    "            ('num', numeric_transformer, numeric_features),\n",
    "            ('cat', categorical_transformer, categorical_features)\n",
    "        ])\n",
    "    \n",
    "    return preprocessor\n"
   ]
  },
  {
   "cell_type": "code",
   "execution_count": 20,
   "metadata": {},
   "outputs": [],
   "source": [
    "def get_trained_model(model, preprocessor, X_train, y_train):\n",
    "    model_pipeline = Pipeline(steps=[\n",
    "        ('preprocessor', preprocessor),\n",
    "        ('pca', PCA(n_components=0.95)),\n",
    "        ('model', model)\n",
    "    ])\n",
    "    \n",
    "    model_pipeline.fit(X_train, y_train)\n",
    "    \n",
    "    return model_pipeline\n",
    "\n",
    "def evaluate_model(pipe, X_test, y_test):\n",
    "    y_pred = pipe.predict(X_test)\n",
    "    \n",
    "    mse = mean_squared_error(y_test, y_pred)\n",
    "    mae = mean_absolute_error(y_test, y_pred)\n",
    "    r2 = r2_score(y_test, y_pred)\n",
    "    \n",
    "    return mse, mae, r2"
   ]
  },
  {
   "cell_type": "code",
   "execution_count": 21,
   "metadata": {},
   "outputs": [],
   "source": [
    "def run_experiment(model, scaler, encoder, X_train, y_train, X_test, y_test, run_name):\n",
    "    with mlflow.start_run(run_name=run_name, log_system_metrics=True) as run:\n",
    "        \n",
    "        preprocessor = get_preprocessor(numeric_features, categorical_features, scaler, encoder)\n",
    "        \n",
    "        model_pipeline = get_trained_model(model, preprocessor, X_train, y_train)\n",
    "        \n",
    "        mse, mae, r2 = evaluate_model(model_pipeline, X_test, y_test)\n",
    "        \n",
    "        print('MSE: ', mse)\n",
    "        print('MAE: ', mae)\n",
    "        print('R2: ', r2)\n",
    "        \n",
    "        mlflow.log_params({\n",
    "            'model': model.__class__.__name__,\n",
    "            'scaler': scaler.__class__.__name__,\n",
    "            'encoder': encoder.__class__.__name__,\n",
    "            \n",
    "        })\n",
    "        \n",
    "        mlflow.log_params(model.get_params())\n",
    "        \n",
    "        mlflow.log_metrics({\n",
    "            'mse': mse,\n",
    "            'mae': mae,\n",
    "            'r2': r2\n",
    "        })\n",
    "        \n",
    "        mlflow.sklearn.log_model(model_pipeline, 'model')\n",
    "        \n",
    "        mlflow.end_run()\n",
    "        \n",
    "        return run.info.run_id, model_pipeline"
   ]
  },
  {
   "cell_type": "code",
   "execution_count": 22,
   "metadata": {},
   "outputs": [
    {
     "name": "stderr",
     "output_type": "stream",
     "text": [
      "2024/10/12 21:07:53 WARNING mlflow.system_metrics.system_metrics_monitor: Skip logging GPU metrics because creating `GPUMonitor` failed with error: `pynvml` is not installed, to log GPU metrics please run `pip install pynvml` to install it..\n",
      "2024/10/12 21:07:53 INFO mlflow.system_metrics.system_metrics_monitor: Started monitoring system metrics.\n"
     ]
    },
    {
     "name": "stdout",
     "output_type": "stream",
     "text": [
      "MSE:  0.2507778567822869\n",
      "MAE:  0.39955657851757254\n",
      "R2:  0.9130133587627195\n"
     ]
    },
    {
     "name": "stderr",
     "output_type": "stream",
     "text": [
      "2024/10/12 21:08:07 WARNING mlflow.models.model: Model logged without a signature and input example. Please set `input_example` parameter when logging the model to auto infer the model signature.\n",
      "2024/10/12 21:08:07 INFO mlflow.system_metrics.system_metrics_monitor: Stopping system metrics monitoring...\n",
      "2024/10/12 21:08:07 INFO mlflow.system_metrics.system_metrics_monitor: Successfully terminated system metrics monitoring!\n"
     ]
    }
   ],
   "source": [
    "from sklearn.linear_model import LinearRegression\n",
    "\n",
    "scaler = StandardScaler()\n",
    "encoder = OneHotEncoder(handle_unknown='ignore', drop='first')\n",
    "model = LinearRegression()\n",
    "\n",
    "run_id, model_pipeline = run_experiment(model, scaler, encoder, X_train, y_train, X_test, y_test, 'Linear Regression Std Scaler OHE')\n"
   ]
  },
  {
   "cell_type": "code",
   "execution_count": 23,
   "metadata": {},
   "outputs": [
    {
     "name": "stderr",
     "output_type": "stream",
     "text": [
      "2024/10/12 21:08:10 WARNING mlflow.system_metrics.system_metrics_monitor: Skip logging GPU metrics because creating `GPUMonitor` failed with error: `pynvml` is not installed, to log GPU metrics please run `pip install pynvml` to install it..\n",
      "2024/10/12 21:08:10 INFO mlflow.system_metrics.system_metrics_monitor: Started monitoring system metrics.\n"
     ]
    },
    {
     "name": "stdout",
     "output_type": "stream",
     "text": [
      "MSE:  0.5281797551154109\n",
      "MAE:  0.5801357313881056\n",
      "R2:  0.8167917077826142\n"
     ]
    },
    {
     "name": "stderr",
     "output_type": "stream",
     "text": [
      "2024/10/12 21:09:02 WARNING mlflow.models.model: Model logged without a signature and input example. Please set `input_example` parameter when logging the model to auto infer the model signature.\n",
      "2024/10/12 21:09:02 INFO mlflow.system_metrics.system_metrics_monitor: Stopping system metrics monitoring...\n",
      "2024/10/12 21:09:02 INFO mlflow.system_metrics.system_metrics_monitor: Successfully terminated system metrics monitoring!\n"
     ]
    }
   ],
   "source": [
    "from sklearn.tree import DecisionTreeRegressor\n",
    "\n",
    "scaler = StandardScaler()\n",
    "encoder = OneHotEncoder(handle_unknown='ignore', drop='first')\n",
    "model = DecisionTreeRegressor(random_state=42)\n",
    "run_id, model_pipeline = run_experiment(model, scaler, encoder, X_train, y_train, X_test, y_test, 'Decision Tree Std Scaler OHE')\n"
   ]
  },
  {
   "cell_type": "code",
   "execution_count": 24,
   "metadata": {},
   "outputs": [
    {
     "name": "stderr",
     "output_type": "stream",
     "text": [
      "2024/10/12 21:09:14 WARNING mlflow.system_metrics.system_metrics_monitor: Skip logging GPU metrics because creating `GPUMonitor` failed with error: `pynvml` is not installed, to log GPU metrics please run `pip install pynvml` to install it..\n",
      "2024/10/12 21:09:14 INFO mlflow.system_metrics.system_metrics_monitor: Started monitoring system metrics.\n"
     ]
    },
    {
     "name": "stdout",
     "output_type": "stream",
     "text": [
      "MSE:  0.8565650249822847\n",
      "MAE:  0.765128808902882\n",
      "R2:  0.7028855917322001\n"
     ]
    },
    {
     "name": "stderr",
     "output_type": "stream",
     "text": [
      "2024/10/12 21:11:49 WARNING mlflow.models.model: Model logged without a signature and input example. Please set `input_example` parameter when logging the model to auto infer the model signature.\n",
      "2024/10/12 21:11:49 INFO mlflow.system_metrics.system_metrics_monitor: Stopping system metrics monitoring...\n",
      "2024/10/12 21:11:49 INFO mlflow.system_metrics.system_metrics_monitor: Successfully terminated system metrics monitoring!\n"
     ]
    }
   ],
   "source": [
    "from sklearn.svm import SVR\n",
    "\n",
    "scaler =  StandardScaler()\n",
    "encoder = OneHotEncoder(handle_unknown='ignore', drop='first')\n",
    "model = SVR(max_iter=1000)\n",
    "run_id, model_pipeline = run_experiment(model, scaler, encoder, X_train, y_train, X_test, y_test, 'SVR Std Scaler OHE')"
   ]
  },
  {
   "cell_type": "code",
   "execution_count": 25,
   "metadata": {},
   "outputs": [
    {
     "name": "stderr",
     "output_type": "stream",
     "text": [
      "2024/10/12 21:11:50 WARNING mlflow.system_metrics.system_metrics_monitor: Skip logging GPU metrics because creating `GPUMonitor` failed with error: `pynvml` is not installed, to log GPU metrics please run `pip install pynvml` to install it..\n",
      "2024/10/12 21:11:50 INFO mlflow.system_metrics.system_metrics_monitor: Started monitoring system metrics.\n"
     ]
    },
    {
     "name": "stdout",
     "output_type": "stream",
     "text": [
      "MSE:  0.2692433867989182\n",
      "MAE:  0.4139207056914438\n",
      "R2:  0.9066082699904384\n"
     ]
    },
    {
     "name": "stderr",
     "output_type": "stream",
     "text": [
      "2024/10/12 21:47:00 WARNING mlflow.models.model: Model logged without a signature and input example. Please set `input_example` parameter when logging the model to auto infer the model signature.\n",
      "2024/10/12 21:47:46 INFO mlflow.system_metrics.system_metrics_monitor: Stopping system metrics monitoring...\n",
      "2024/10/12 21:47:46 INFO mlflow.system_metrics.system_metrics_monitor: Successfully terminated system metrics monitoring!\n"
     ]
    }
   ],
   "source": [
    "from sklearn.ensemble import RandomForestRegressor\n",
    "\n",
    "scaler = StandardScaler()\n",
    "encoder = OneHotEncoder(handle_unknown='ignore', drop='first')\n",
    "model = RandomForestRegressor(random_state=42, n_estimators=50)\n",
    "run_id, model_pipeline = run_experiment(model, scaler, encoder, X_train, y_train, X_test, y_test, 'Random Forest Std Scaler OHE')"
   ]
  },
  {
   "cell_type": "code",
   "execution_count": 26,
   "metadata": {},
   "outputs": [
    {
     "name": "stderr",
     "output_type": "stream",
     "text": [
      "2024/10/12 21:47:47 WARNING mlflow.system_metrics.system_metrics_monitor: Skip logging GPU metrics because creating `GPUMonitor` failed with error: `pynvml` is not installed, to log GPU metrics please run `pip install pynvml` to install it..\n",
      "2024/10/12 21:47:47 INFO mlflow.system_metrics.system_metrics_monitor: Started monitoring system metrics.\n"
     ]
    },
    {
     "name": "stdout",
     "output_type": "stream",
     "text": [
      "MSE:  0.26991574649034444\n",
      "MAE:  0.4144749686260899\n",
      "R2:  0.9063750503911845\n"
     ]
    },
    {
     "name": "stderr",
     "output_type": "stream",
     "text": [
      "2024/10/12 22:14:02 WARNING mlflow.models.model: Model logged without a signature and input example. Please set `input_example` parameter when logging the model to auto infer the model signature.\n",
      "2024/10/12 22:14:02 INFO mlflow.system_metrics.system_metrics_monitor: Stopping system metrics monitoring...\n",
      "2024/10/12 22:14:02 INFO mlflow.system_metrics.system_metrics_monitor: Successfully terminated system metrics monitoring!\n"
     ]
    }
   ],
   "source": [
    "from sklearn.ensemble import GradientBoostingRegressor\n",
    "\n",
    "scaler = StandardScaler()\n",
    "encoder = OneHotEncoder(handle_unknown='ignore', drop='first')\n",
    "model = GradientBoostingRegressor(random_state=42, n_iter_no_change=5 )\n",
    "run_id, model_pipeline = run_experiment(model, scaler, encoder, X_train, y_train, X_test, y_test, 'Gradient Boosting Std Scaler OHE')"
   ]
  },
  {
   "cell_type": "code",
   "execution_count": 27,
   "metadata": {},
   "outputs": [
    {
     "name": "stderr",
     "output_type": "stream",
     "text": [
      "2024/10/12 22:14:03 WARNING mlflow.system_metrics.system_metrics_monitor: Skip logging GPU metrics because creating `GPUMonitor` failed with error: `pynvml` is not installed, to log GPU metrics please run `pip install pynvml` to install it..\n",
      "2024/10/12 22:14:03 INFO mlflow.system_metrics.system_metrics_monitor: Started monitoring system metrics.\n"
     ]
    },
    {
     "name": "stdout",
     "output_type": "stream",
     "text": [
      "MSE:  0.3519805757142988\n",
      "MAE:  0.4730805039290763\n",
      "R2:  0.8779094436207265\n"
     ]
    },
    {
     "name": "stderr",
     "output_type": "stream",
     "text": [
      "2024/10/12 22:23:28 WARNING mlflow.models.model: Model logged without a signature and input example. Please set `input_example` parameter when logging the model to auto infer the model signature.\n",
      "2024/10/12 22:23:29 INFO mlflow.system_metrics.system_metrics_monitor: Stopping system metrics monitoring...\n",
      "2024/10/12 22:23:29 INFO mlflow.system_metrics.system_metrics_monitor: Successfully terminated system metrics monitoring!\n"
     ]
    }
   ],
   "source": [
    "from sklearn.ensemble import AdaBoostRegressor\n",
    "\n",
    "scaler = StandardScaler()\n",
    "encoder = OneHotEncoder(handle_unknown='ignore', drop='first')\n",
    "model = AdaBoostRegressor(random_state=42)\n",
    "run_id, model_pipeline = run_experiment(model, scaler, encoder, X_train, y_train, X_test, y_test, 'AdaBoost Std Scaler OHE')\n"
   ]
  },
  {
   "cell_type": "code",
   "execution_count": 28,
   "metadata": {},
   "outputs": [
    {
     "name": "stderr",
     "output_type": "stream",
     "text": [
      "2024/10/12 22:23:29 WARNING mlflow.system_metrics.system_metrics_monitor: Skip logging GPU metrics because creating `GPUMonitor` failed with error: `pynvml` is not installed, to log GPU metrics please run `pip install pynvml` to install it..\n",
      "2024/10/12 22:23:29 INFO mlflow.system_metrics.system_metrics_monitor: Started monitoring system metrics.\n"
     ]
    },
    {
     "name": "stdout",
     "output_type": "stream",
     "text": [
      "MSE:  0.2507810141452784\n",
      "MAE:  0.3995563053210456\n",
      "R2:  0.9130122635767037\n"
     ]
    },
    {
     "name": "stderr",
     "output_type": "stream",
     "text": [
      "2024/10/12 22:23:46 WARNING mlflow.models.model: Model logged without a signature and input example. Please set `input_example` parameter when logging the model to auto infer the model signature.\n",
      "2024/10/12 22:23:46 INFO mlflow.system_metrics.system_metrics_monitor: Stopping system metrics monitoring...\n",
      "2024/10/12 22:23:46 INFO mlflow.system_metrics.system_metrics_monitor: Successfully terminated system metrics monitoring!\n"
     ]
    }
   ],
   "source": [
    "from sklearn.linear_model import HuberRegressor\n",
    "\n",
    "scaler = StandardScaler()\n",
    "encoder = OneHotEncoder(handle_unknown='error', drop='if_binary')\n",
    "model = HuberRegressor(max_iter=1000)\n",
    "run_id, model_pipeline = run_experiment(model, scaler, encoder, X_train, y_train, X_test, y_test, 'HuberRegressor Std Scaler OHE')"
   ]
  },
  {
   "cell_type": "code",
   "execution_count": 29,
   "metadata": {},
   "outputs": [
    {
     "name": "stderr",
     "output_type": "stream",
     "text": [
      "2024/10/12 22:23:46 WARNING mlflow.system_metrics.system_metrics_monitor: Skip logging GPU metrics because creating `GPUMonitor` failed with error: `pynvml` is not installed, to log GPU metrics please run `pip install pynvml` to install it..\n",
      "2024/10/12 22:23:46 INFO mlflow.system_metrics.system_metrics_monitor: Started monitoring system metrics.\n"
     ]
    },
    {
     "name": "stdout",
     "output_type": "stream",
     "text": [
      "MSE:  0.2520021517955861\n",
      "MAE:  0.40053497381459774\n",
      "R2:  0.9125886908416482\n"
     ]
    },
    {
     "name": "stderr",
     "output_type": "stream",
     "text": [
      "2024/10/12 22:30:42 WARNING mlflow.models.model: Model logged without a signature and input example. Please set `input_example` parameter when logging the model to auto infer the model signature.\n",
      "2024/10/12 22:30:42 INFO mlflow.system_metrics.system_metrics_monitor: Stopping system metrics monitoring...\n",
      "2024/10/12 22:30:42 INFO mlflow.system_metrics.system_metrics_monitor: Successfully terminated system metrics monitoring!\n"
     ]
    }
   ],
   "source": [
    "from sklearn.neural_network import MLPRegressor\n",
    "\n",
    "scaler = StandardScaler()\n",
    "encoder = OneHotEncoder(handle_unknown='ignore', drop='first')\n",
    "model = MLPRegressor(max_iter=1000, random_state=42, early_stopping=True, n_iter_no_change=5, hidden_layer_sizes=(100, 50))\n",
    "run_id, model_pipeline = run_experiment(model, scaler, encoder, X_train, y_train, X_test, y_test, 'MLPRegressor Std Scaler OHE')\n"
   ]
  },
  {
   "cell_type": "code",
   "execution_count": 30,
   "metadata": {},
   "outputs": [
    {
     "name": "stderr",
     "output_type": "stream",
     "text": [
      "2024/10/12 22:30:43 WARNING mlflow.system_metrics.system_metrics_monitor: Skip logging GPU metrics because creating `GPUMonitor` failed with error: `pynvml` is not installed, to log GPU metrics please run `pip install pynvml` to install it..\n",
      "2024/10/12 22:30:43 INFO mlflow.system_metrics.system_metrics_monitor: Started monitoring system metrics.\n"
     ]
    },
    {
     "name": "stdout",
     "output_type": "stream",
     "text": [
      "MSE:  0.2646346994174059\n",
      "MAE:  0.410474859532941\n",
      "R2:  0.9082068729969965\n"
     ]
    },
    {
     "name": "stderr",
     "output_type": "stream",
     "text": [
      "2024/10/12 22:30:59 WARNING mlflow.models.model: Model logged without a signature and input example. Please set `input_example` parameter when logging the model to auto infer the model signature.\n",
      "2024/10/12 22:30:59 INFO mlflow.system_metrics.system_metrics_monitor: Stopping system metrics monitoring...\n",
      "2024/10/12 22:31:00 INFO mlflow.system_metrics.system_metrics_monitor: Successfully terminated system metrics monitoring!\n"
     ]
    }
   ],
   "source": [
    "from xgboost import XGBRegressor\n",
    "\n",
    "scaler = StandardScaler()\n",
    "encoder = OneHotEncoder(handle_unknown='ignore', drop='first')\n",
    "model = XGBRegressor(random_state=42, n_estimators=50)\n",
    "run_id, model_pipeline = run_experiment(model, scaler, encoder, X_train, y_train, X_test, y_test, 'XGBRegressor Std Scaler OHE')"
   ]
  },
  {
   "cell_type": "code",
   "execution_count": 31,
   "metadata": {},
   "outputs": [
    {
     "name": "stderr",
     "output_type": "stream",
     "text": [
      "2024/10/12 22:31:02 WARNING mlflow.system_metrics.system_metrics_monitor: Skip logging GPU metrics because creating `GPUMonitor` failed with error: `pynvml` is not installed, to log GPU metrics please run `pip install pynvml` to install it..\n",
      "2024/10/12 22:31:02 INFO mlflow.system_metrics.system_metrics_monitor: Started monitoring system metrics.\n"
     ]
    },
    {
     "name": "stdout",
     "output_type": "stream",
     "text": [
      "[LightGBM] [Info] Auto-choosing col-wise multi-threading, the overhead of testing was 0.119423 seconds.\n",
      "You can set `force_col_wise=true` to remove the overhead.\n",
      "[LightGBM] [Info] Total Bins 4080\n",
      "[LightGBM] [Info] Number of data points in the train set: 800000, number of used features: 16\n",
      "[LightGBM] [Info] Start training from score 4.649019\n",
      "MSE:  0.25795331513791236\n",
      "MAE:  0.4053661653648108\n",
      "R2:  0.9105244268063557\n"
     ]
    },
    {
     "name": "stderr",
     "output_type": "stream",
     "text": [
      "2024/10/12 22:31:23 WARNING mlflow.models.model: Model logged without a signature and input example. Please set `input_example` parameter when logging the model to auto infer the model signature.\n",
      "2024/10/12 22:31:23 INFO mlflow.system_metrics.system_metrics_monitor: Stopping system metrics monitoring...\n",
      "2024/10/12 22:31:23 INFO mlflow.system_metrics.system_metrics_monitor: Successfully terminated system metrics monitoring!\n"
     ]
    }
   ],
   "source": [
    "from lightgbm import LGBMRegressor\n",
    "\n",
    "scaler = StandardScaler()\n",
    "encoder = OneHotEncoder(handle_unknown='ignore', drop='first')\n",
    "model = LGBMRegressor(random_state=42)\n",
    "run_id, model_pipeline = run_experiment(model, scaler, encoder, X_train, y_train, X_test, y_test, 'LGBMRegressor Std Scaler OHE')"
   ]
  },
  {
   "cell_type": "code",
   "execution_count": null,
   "metadata": {},
   "outputs": [],
   "source": []
  },
  {
   "cell_type": "code",
   "execution_count": null,
   "metadata": {},
   "outputs": [],
   "source": []
  }
 ],
 "metadata": {
  "kernelspec": {
   "display_name": "Python 3",
   "language": "python",
   "name": "python3"
  },
  "language_info": {
   "codemirror_mode": {
    "name": "ipython",
    "version": 3
   },
   "file_extension": ".py",
   "mimetype": "text/x-python",
   "name": "python",
   "nbconvert_exporter": "python",
   "pygments_lexer": "ipython3",
   "version": "3.11.9"
  }
 },
 "nbformat": 4,
 "nbformat_minor": 2
}
